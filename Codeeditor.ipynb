{
  "nbformat": 4,
  "nbformat_minor": 0,
  "metadata": {
    "colab": {
      "provenance": [],
      "authorship_tag": "ABX9TyNXMxqBlF+tMuILAFaoqdug",
      "include_colab_link": true
    },
    "kernelspec": {
      "name": "python3",
      "display_name": "Python 3"
    },
    "language_info": {
      "name": "python"
    }
  },
  "cells": [
    {
      "cell_type": "markdown",
      "metadata": {
        "id": "view-in-github",
        "colab_type": "text"
      },
      "source": [
        "<a href=\"https://colab.research.google.com/github/waqarbaig6133/basicPythonProjects/blob/main/Codeeditor.ipynb\" target=\"_parent\"><img src=\"https://colab.research.google.com/assets/colab-badge.svg\" alt=\"Open In Colab\"/></a>"
      ]
    },
    {
      "cell_type": "code",
      "execution_count": 7,
      "metadata": {
        "colab": {
          "base_uri": "https://localhost:8080/"
        },
        "id": "0ALTUC9xQ33m",
        "outputId": "8016915b-2742-49ba-e3d3-9380e46872cf"
      },
      "outputs": [
        {
          "output_type": "stream",
          "name": "stdout",
          "text": [
            "[-2, 2]\n"
          ]
        }
      ],
      "source": [
        "import sympy\n",
        "exec_globals = {\n",
        "    \"builtins__\": {},\n",
        "    **sympy.__dict__,\n",
        "}\n",
        "\n",
        "code = '''\n",
        "x = symbols('x')\n",
        "expr = x**2 - 4\n",
        "solution = solve(expr, x)\n",
        "print(solution)\n",
        "'''\n",
        "\n",
        "exec(code, exec_globals)"
      ]
    },
    {
      "cell_type": "markdown",
      "source": [
        "In order to use the libraries in dynamic executable code\n",
        "1.   Import everything from the beginning\n",
        "2.   Make a dictionary including all of the commands of the module/library\n",
        "3. exec with the dictionary\n",
        "\n"
      ],
      "metadata": {
        "id": "_0uCdULQTCRQ"
      }
    },
    {
      "cell_type": "code",
      "source": [
        "import numpy as np, sympy as sp, matplotlib as mpl\n",
        "import tensorflow as tf\n",
        "\n",
        "exec_globals = {\n",
        "    \"builtins__\": {},\n",
        "    **sp.__dict__,\n",
        "    **np.__dict__,\n",
        "    **mpl.__dict__,\n",
        "}\n",
        "\n",
        "lines = []\n",
        "i = True\n",
        "while i == True:\n",
        "  user = input()\n",
        "  if user == 'STOP CODE':\n",
        "    break\n",
        "  else:\n",
        "    lines.append(user)\n",
        "code = '\\n'.join(lines)\n",
        "#make 4 spaces for indentation\n",
        "exec(code, exec_globals)\n"
      ],
      "metadata": {
        "colab": {
          "base_uri": "https://localhost:8080/"
        },
        "id": "M175po9sThbg",
        "outputId": "b78f402d-d0bf-4b6d-e37c-b5c7fc69dcb3"
      },
      "execution_count": 16,
      "outputs": [
        {
          "output_type": "stream",
          "name": "stdout",
          "text": [
            "for x in range(3):\n",
            "    print(x)\n",
            "STOP CODE\n",
            "for x in range(3):\n",
            "    print(x)\n",
            "0\n",
            "1\n",
            "2\n"
          ]
        }
      ]
    }
  ]
}